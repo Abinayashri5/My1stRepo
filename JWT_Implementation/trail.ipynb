{
 "cells": [
  {
   "cell_type": "code",
   "execution_count": 5,
   "metadata": {},
   "outputs": [],
   "source": [
    "from flask import Flask, jsonify, request\n",
    "from flask_sqlalchemy import SQLAlchemy\n",
    "from flask_jwt_extended import JWTManager, create_access_token, jwt_required, get_jwt_identity"
   ]
  },
  {
   "cell_type": "code",
   "execution_count": null,
   "metadata": {},
   "outputs": [],
   "source": [
    "from passlib.hash import scrypt_crypt\n",
    "\n",
    "\n",
    "hashed_password = \"scrypt:32768:8:1$ufPKfHuu7aEHp87l$cd1b22efb089651f7ec351ce715a14f6137f0065608254b50ee7cd68483b4df0f5090ad4651cbbbf6f1170928569370d892258180c45cc0b99ad42bf03b90ebb\"\n",
    "\n",
    "w=scrypt_crypt.verify( hashed_password)\n",
    "print(w)"
   ]
  },
  {
   "cell_type": "code",
   "execution_count": null,
   "metadata": {},
   "outputs": [],
   "source": [
    "from passlib.hash import scrypt_crypt\n",
    "\n",
    "def crack_password(hashed_password):\n",
    "    \n",
    "    return scrypt_crypt.verify( hashed_password)\n",
    "\n",
    "# Example usage\n",
    "hashed_password = \"scrypt:32768:8:1$ufPKfHuu7aEHp87l$cd1b22efb089651f7ec351ce715a14f6137f0065608254b50ee7cd68483b4df0f5090ad4651cbbbf6f1170928569370d892258180c45cc0b99ad42bf03b90ebb\"\n",
    "\n",
    "# Attempt to crack the password\n",
    "cracked_password = crack_password(hashed_password)\n",
    "\n",
    "\n"
   ]
  },
  {
   "cell_type": "code",
   "execution_count": null,
   "metadata": {},
   "outputs": [
    {
     "ename": "",
     "evalue": "",
     "output_type": "error",
     "traceback": [
      "\u001b[1;31mRunning cells with 'jNest' requires the ipykernel package.\n",
      "\u001b[1;31mRun the following command to install 'ipykernel' into the Python environment. \n",
      "\u001b[1;31mCommand: '\"d:/Abi/Jan - Feb tasks/JWT_Implementation/jNest/Scripts/python.exe\" -m pip install ipykernel -U --force-reinstall'"
     ]
    }
   ],
   "source": [
    "from passlib.hash import scrypt_crypt\n",
    "\n",
    "\n",
    "hashed_password = \"scrypt:32768:8:1$ufPKfHuu7aEHp87l$cd1b22efb089651f7ec351ce715a14f6137f0065608254b50ee7cd68483b4df0f5090ad4651cbbbf6f1170928569370d892258180c45cc0b99ad42bf03b90ebb\"\n",
    "\n",
    "w=scrypt_crypt.verify( hashed_password)\n",
    "print(w)"
   ]
  }
 ],
 "metadata": {
  "kernelspec": {
   "display_name": "Python 3",
   "language": "python",
   "name": "python3"
  },
  "language_info": {
   "codemirror_mode": {
    "name": "ipython",
    "version": 3
   },
   "file_extension": ".py",
   "mimetype": "text/x-python",
   "name": "python",
   "nbconvert_exporter": "python",
   "pygments_lexer": "ipython3",
   "version": "3.11.4"
  }
 },
 "nbformat": 4,
 "nbformat_minor": 2
}
